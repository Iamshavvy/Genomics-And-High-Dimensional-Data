{
 "cells": [
  {
   "cell_type": "code",
   "execution_count": 1,
   "id": "7074016c",
   "metadata": {},
   "outputs": [],
   "source": [
    "import numpy as np\n",
    "import pandas as pd\n",
    "X=np.load(\"X.npy\")\n",
    "df=pd.DataFrame(X).to_csv(\"X.csv\")"
   ]
  },
  {
   "cell_type": "code",
   "execution_count": 3,
   "id": "eb350559",
   "metadata": {},
   "outputs": [
    {
     "data": {
      "text/plain": [
       "(2169, 45768)"
      ]
     },
     "execution_count": 3,
     "metadata": {},
     "output_type": "execute_result"
    }
   ],
   "source": [
    "X.shape"
   ]
  },
  {
   "cell_type": "code",
   "execution_count": 4,
   "id": "a8ebaaa2",
   "metadata": {},
   "outputs": [
    {
     "data": {
      "text/plain": [
       "61.77721743231262"
      ]
     },
     "execution_count": 4,
     "metadata": {},
     "output_type": "execute_result"
    }
   ],
   "source": [
    "max_entry = np.max(X[:, 0])\n",
    "max_entry"
   ]
  },
  {
   "cell_type": "code",
   "execution_count": 5,
   "id": "d727f143",
   "metadata": {},
   "outputs": [],
   "source": [
    "processed_data = np.log2(X + 1)"
   ]
  },
  {
   "cell_type": "code",
   "execution_count": 6,
   "id": "ffa2df04",
   "metadata": {},
   "outputs": [
    {
     "data": {
      "text/plain": [
       "5.972169178513185"
      ]
     },
     "execution_count": 6,
     "metadata": {},
     "output_type": "execute_result"
    }
   ],
   "source": [
    "np.max(processed_data[:,0])"
   ]
  },
  {
   "cell_type": "code",
   "execution_count": null,
   "id": "fabbd446",
   "metadata": {},
   "outputs": [],
   "source": []
  }
 ],
 "metadata": {
  "kernelspec": {
   "display_name": "Python 3 (ipykernel)",
   "language": "python",
   "name": "python3"
  },
  "language_info": {
   "codemirror_mode": {
    "name": "ipython",
    "version": 3
   },
   "file_extension": ".py",
   "mimetype": "text/x-python",
   "name": "python",
   "nbconvert_exporter": "python",
   "pygments_lexer": "ipython3",
   "version": "3.9.12"
  }
 },
 "nbformat": 4,
 "nbformat_minor": 5
}
